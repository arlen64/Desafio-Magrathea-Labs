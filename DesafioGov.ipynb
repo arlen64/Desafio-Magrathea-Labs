{
 "cells": [
  {
   "cell_type": "code",
   "execution_count": 78,
   "metadata": {},
   "outputs": [],
   "source": [
    "# Importar SparkSession\n",
    "from pyspark.sql import SparkSession\n",
    "from pyspark.sql.functions import year, desc, rank, col, dense_rank, max\n",
    "from pyspark.sql.window import Window\n",
    "from pyspark.sql.functions import sum as spark_sum\n",
    "\n",
    "# Importações para exibição dos gráficos\n",
    "import pandas as pd\n",
    "import plotly.graph_objects as go\n",
    "import plotly.express as px\n",
    "\n",
    "# Importações para criar o dashboard\n",
    "import dash\n",
    "from dash import dcc, html\n",
    "import plotly.graph_objs as go\n"
   ]
  },
  {
   "cell_type": "code",
   "execution_count": 79,
   "metadata": {},
   "outputs": [],
   "source": [
    "# Inicializar SparkSession\n",
    "\n",
    "spark = SparkSession.builder \\\n",
    "    .appName(\"Produtos Mais Importados e Exportados\") \\\n",
    "    .getOrCreate()"
   ]
  },
  {
   "cell_type": "markdown",
   "metadata": {},
   "source": [
    "#### Caminhos dos arquivos"
   ]
  },
  {
   "cell_type": "code",
   "execution_count": 80,
   "metadata": {},
   "outputs": [],
   "source": [
    "# Tabela de exportações\n",
    "caminho_exportacoes = \"EXP_COMPLETA.csv\"\n",
    "\n",
    "# Tabela de importações\n",
    "caminho_importacoes =\"IMP_COMPLETA.csv\" \n",
    "\n",
    "# Tabela de nomeclatura dos nomes, colunas e produtos.\n",
    "caminho_tabela_produtos = \"NCM.csv\"\n"
   ]
  },
  {
   "cell_type": "markdown",
   "metadata": {},
   "source": [
    "## Carregando o primeiro dataframe relacionado às exportações"
   ]
  },
  {
   "cell_type": "code",
   "execution_count": 81,
   "metadata": {},
   "outputs": [],
   "source": [
    "\n",
    "df_exp = (spark\n",
    "            .read\n",
    "            .format('csv')\n",
    "            .option('header','true')\n",
    "            .option('inferSchema','true')\n",
    "            .option('index','true')             \n",
    "            .option('delimiter',';')\n",
    "            .load(caminho_exportacoes))\n"
   ]
  },
  {
   "cell_type": "markdown",
   "metadata": {},
   "source": [
    "## Carregando o segundo dataframe relacionado às Importações"
   ]
  },
  {
   "cell_type": "code",
   "execution_count": 82,
   "metadata": {},
   "outputs": [],
   "source": [
    "\n",
    "df_imp = (spark\n",
    "            .read\n",
    "            .format('csv')\n",
    "            .option('header','true')\n",
    "            .option('inferSchema','true')\n",
    "            .option('index','true')             \n",
    "            .option('delimiter',';')\n",
    "            .load(caminho_importacoes))\n"
   ]
  },
  {
   "cell_type": "markdown",
   "metadata": {},
   "source": [
    "## Carregando o dataframe relacionado a nomeclatura das colunas"
   ]
  },
  {
   "cell_type": "code",
   "execution_count": 83,
   "metadata": {},
   "outputs": [],
   "source": [
    "df_table = (spark\n",
    "            .read\n",
    "            .format('csv')\n",
    "            .option('header','true')\n",
    "            .option('inferSchema','true')\n",
    "            .option('index','true')             \n",
    "            .option('delimiter',';')\n",
    "            .load(caminho_tabela_produtos))\n"
   ]
  },
  {
   "cell_type": "markdown",
   "metadata": {},
   "source": [
    "### Excluindo colunas no dataframe"
   ]
  },
  {
   "cell_type": "code",
   "execution_count": 84,
   "metadata": {},
   "outputs": [],
   "source": [
    "colunas_para_excluir = [\"NO_NCM_ESP\", \"NO_NCM_POR\"]\n",
    "new_df = df_table\n",
    "for coluna in colunas_para_excluir:\n",
    "    new_df = new_df.drop(coluna)"
   ]
  },
  {
   "cell_type": "code",
   "execution_count": 85,
   "metadata": {},
   "outputs": [
    {
     "data": {
      "text/plain": [
       "'new_df.show()'"
      ]
     },
     "execution_count": 85,
     "metadata": {},
     "output_type": "execute_result"
    }
   ],
   "source": [
    "# dataframe somente com a coluna NO_NCM_ING\n",
    "'''new_df.show()'''"
   ]
  },
  {
   "cell_type": "markdown",
   "metadata": {},
   "source": [
    "### Adicionando a coluna com os nomes dos produtos na tabela de EXPORTAÇÃO e tabela de IMPORTAÇÃO"
   ]
  },
  {
   "cell_type": "code",
   "execution_count": 86,
   "metadata": {},
   "outputs": [],
   "source": [
    "# Tabela de Exportação\n",
    "df_com_produtos = df_exp.join(df_table.select(\"CO_NCM\", \"NO_NCM_ING\"), \"CO_NCM\", \"left_outer\")\n",
    "\n",
    "# Tabela de Importação\n",
    "df_imp_com_produtos = df_imp.join(df_table.select(\"CO_NCM\", \"NO_NCM_ING\"), \"CO_NCM\", \"left_outer\")"
   ]
  },
  {
   "cell_type": "code",
   "execution_count": 87,
   "metadata": {},
   "outputs": [
    {
     "data": {
      "text/plain": [
       "'df_imp_com_produtos.show()'"
      ]
     },
     "execution_count": 87,
     "metadata": {},
     "output_type": "execute_result"
    }
   ],
   "source": [
    "'''df_com_produtos.show()'''\n",
    "'''df_imp_com_produtos.show()'''"
   ]
  },
  {
   "cell_type": "markdown",
   "metadata": {},
   "source": [
    "## 01. Mostre qual os top 3 produtos mais exportados em 2017, 2018 e 2019 ;"
   ]
  },
  {
   "cell_type": "markdown",
   "metadata": {},
   "source": [
    "### Filtrar dados para os anos de interesse (2017, 2018, 2019)"
   ]
  },
  {
   "cell_type": "code",
   "execution_count": 88,
   "metadata": {},
   "outputs": [
    {
     "data": {
      "text/plain": [
       "'df_ano.show()'"
      ]
     },
     "execution_count": 88,
     "metadata": {},
     "output_type": "execute_result"
    }
   ],
   "source": [
    "\n",
    "df_ano = df_com_produtos.filter(df_com_produtos[\"CO_ANO\"].isin(2017, 2018, 2019))\n",
    "'''df_ano.show()'''"
   ]
  },
  {
   "cell_type": "markdown",
   "metadata": {},
   "source": [
    "### Agrupar por estado, somando as quantidades exportadas"
   ]
  },
  {
   "cell_type": "code",
   "execution_count": 89,
   "metadata": {},
   "outputs": [
    {
     "data": {
      "text/plain": [
       "'df_agrupado_estado.show()'"
      ]
     },
     "execution_count": 89,
     "metadata": {},
     "output_type": "execute_result"
    }
   ],
   "source": [
    "\n",
    "df_agrupado_estado= df_ano.groupBy(\"CO_ANO\", \"CO_NCM\",\"SG_UF_NCM\", \"NO_NCM_ING\").max(\"QT_ESTAT\").withColumnRenamed(\"max(QT_ESTAT)\", \"TOTAL_EXPORTADO\")\n",
    "'''df_agrupado_estado.show()'''\n"
   ]
  },
  {
   "cell_type": "markdown",
   "metadata": {},
   "source": [
    "### Selecionar o maior valor de exportação por ano"
   ]
  },
  {
   "cell_type": "code",
   "execution_count": 90,
   "metadata": {},
   "outputs": [
    {
     "data": {
      "text/plain": [
       "'df_max_exportacao.show()'"
      ]
     },
     "execution_count": 90,
     "metadata": {},
     "output_type": "execute_result"
    }
   ],
   "source": [
    "\n",
    "df_max_exportacao = df_agrupado_estado.groupBy(\"CO_ANO\",\"CO_NCM\",\"SG_UF_NCM\",\"NO_NCM_ING\").agg(max(\"TOTAL_EXPORTADO\").alias(\"MAX_EXPORTACAO\"))\n",
    "'''df_max_exportacao.show()'''"
   ]
  },
  {
   "cell_type": "markdown",
   "metadata": {},
   "source": [
    "### Aplicar a função dense_rank para identificar os 3 maiores valores de \"MAX_EXPORTACAO\""
   ]
  },
  {
   "cell_type": "code",
   "execution_count": 91,
   "metadata": {},
   "outputs": [],
   "source": [
    "\n",
    "df_max_exportacao_com_rank = df_max_exportacao.withColumn(\"rank\", dense_rank().over(Window.orderBy(col(\"MAX_EXPORTACAO\").desc())))"
   ]
  },
  {
   "cell_type": "code",
   "execution_count": 92,
   "metadata": {},
   "outputs": [
    {
     "data": {
      "text/plain": [
       "'df_max_exportacao_com_rank.show()'"
      ]
     },
     "execution_count": 92,
     "metadata": {},
     "output_type": "execute_result"
    }
   ],
   "source": [
    "'''df_max_exportacao_com_rank.show()'''"
   ]
  },
  {
   "cell_type": "markdown",
   "metadata": {},
   "source": [
    "### Selecionar apenas as linhas com rank <= 3 (menor ou igual a três) para obter os 3 top produtos "
   ]
  },
  {
   "cell_type": "code",
   "execution_count": 93,
   "metadata": {},
   "outputs": [
    {
     "data": {
      "text/plain": [
       "'tres_maiores.show()'"
      ]
     },
     "execution_count": 93,
     "metadata": {},
     "output_type": "execute_result"
    }
   ],
   "source": [
    "\n",
    "tres_maiores = df_max_exportacao_com_rank.filter(col(\"rank\") <= 3)\n",
    "\n",
    "# Neste resultado temos o top 3 produtos mais exportados por estado e ano.\n",
    "'''tres_maiores.show()'''"
   ]
  },
  {
   "cell_type": "code",
   "execution_count": 94,
   "metadata": {},
   "outputs": [
    {
     "data": {
      "text/plain": [
       "'df1_pandas'"
      ]
     },
     "execution_count": 94,
     "metadata": {},
     "output_type": "execute_result"
    }
   ],
   "source": [
    "# Selecionar apenas as colunas desejados do df\n",
    "df_selecionado = tres_maiores.select(\"CO_ANO\", \"SG_UF_NCM\", \"MAX_EXPORTACAO\",\"NO_NCM_ING\")\n",
    "\n",
    "# Convertendo para um dt pandas\n",
    "df1_pandas = df_selecionado.toPandas()\n",
    "'''df1_pandas'''"
   ]
  },
  {
   "cell_type": "markdown",
   "metadata": {},
   "source": [
    "### Construindo um gráfico sobre \"Os top 3 produtos mais exportados por estado nos anos de 2017, 2018 e 2019\""
   ]
  },
  {
   "cell_type": "code",
   "execution_count": 95,
   "metadata": {},
   "outputs": [
    {
     "data": {
      "text/plain": [
       "'fig1.show()'"
      ]
     },
     "execution_count": 95,
     "metadata": {},
     "output_type": "execute_result"
    }
   ],
   "source": [
    "# Encontrar o produto principal (com a maior quantidade exportada)\n",
    "produto_principal = df1_pandas.groupby('NO_NCM_ING')['MAX_EXPORTACAO'].sum().idxmax()\n",
    "\n",
    "# Criar uma lista de cores para cada ano\n",
    "cores = ['rgb(31, 119, 180)', 'rgb(255, 127, 14)', 'rgb(44, 160, 44)']\n",
    "\n",
    "# Criar uma lista de fatias para o gráfico de pizza\n",
    "fatias = []\n",
    "\n",
    "# Iterar sobre cada estado\n",
    "for estado in df1_pandas['SG_UF_NCM'].unique():\n",
    "    # Filtrar o DataFrame para o estado atual\n",
    "    df_estado = df1_pandas[df1_pandas['SG_UF_NCM'] == estado]\n",
    "    \n",
    "    # Criar uma lista de valores de exportação para o estado atual\n",
    "    valores_exportacao = []\n",
    "    \n",
    "    # Iterar sobre cada ano\n",
    "    for ano, cor in zip(df1_pandas['CO_ANO'].unique(), cores):\n",
    "        # Filtrar o DataFrame para o ano atual\n",
    "        df_ano = df_estado[df_estado['CO_ANO'] == ano]\n",
    "        \n",
    "        # Calcular a quantidade total exportada pelo estado atual no ano atual\n",
    "        total_ano = df_ano['MAX_EXPORTACAO'].sum()\n",
    "        valores_exportacao.append(total_ano)\n",
    "    \n",
    "    fatias.append(go.Pie(\n",
    "        labels=[f'{estado} - {produto_principal} - {ano}' for ano in df1_pandas['CO_ANO'].unique()],  # Estado, produto e ano\n",
    "        values=valores_exportacao,  # Quantidades exportadas por ano\n",
    "        hoverinfo='label+percent+value',  # Informações exibidas ao passar o mouse\n",
    "        marker=dict(colors=cores),  # Cores das fatias\n",
    "    ))\n",
    "\n",
    "# Criar o layout do gráfico\n",
    "layout = go.Layout(\n",
    "    title='Quantidade Exportada por Estado e Ano',  # Título do gráfico\n",
    "    legend_title='Estado - Produto - Ano',  # Título da legenda\n",
    ")\n",
    "\n",
    "# Criar a figura do gráfico\n",
    "fig1 = go.Figure(data=fatias, layout=layout)\n",
    "\n",
    "# Exibir o gráfico\n",
    "'''fig1.show()'''"
   ]
  },
  {
   "cell_type": "markdown",
   "metadata": {},
   "source": [
    "## 02. Mostre qual os top 3 produtos mais importados em 2017, 2018 e 2019;"
   ]
  },
  {
   "cell_type": "code",
   "execution_count": 96,
   "metadata": {},
   "outputs": [
    {
     "data": {
      "text/plain": [
       "'df_ano_imp.show()'"
      ]
     },
     "execution_count": 96,
     "metadata": {},
     "output_type": "execute_result"
    }
   ],
   "source": [
    "# filtrar os anos \n",
    "df_ano_imp = df_imp_com_produtos.filter(df_imp[\"CO_ANO\"].isin(2017, 2018, 2019))\n",
    "'''df_ano_imp.show()'''"
   ]
  },
  {
   "cell_type": "markdown",
   "metadata": {},
   "source": [
    "### Agrupar por estado, somando as quantidades importadas"
   ]
  },
  {
   "cell_type": "code",
   "execution_count": 97,
   "metadata": {},
   "outputs": [
    {
     "data": {
      "text/plain": [
       "'df_agrupado_estado_imp.show()'"
      ]
     },
     "execution_count": 97,
     "metadata": {},
     "output_type": "execute_result"
    }
   ],
   "source": [
    "df_agrupado_estado_imp= df_ano_imp.groupBy(\"CO_ANO\", \"CO_NCM\",\"SG_UF_NCM\", \"NO_NCM_ING\").max(\"QT_ESTAT\").withColumnRenamed(\"max(QT_ESTAT)\", \"MAX_IMPORTACAO\")\n",
    "'''df_agrupado_estado_imp.show()'''"
   ]
  },
  {
   "cell_type": "markdown",
   "metadata": {},
   "source": [
    "### Aplicar a função dense_rank para identificar os maiores valores de \"MAX_IMPORTAÇÃO\""
   ]
  },
  {
   "cell_type": "code",
   "execution_count": 98,
   "metadata": {},
   "outputs": [
    {
     "data": {
      "text/plain": [
       "'df_max_importacao_com_rank.show()'"
      ]
     },
     "execution_count": 98,
     "metadata": {},
     "output_type": "execute_result"
    }
   ],
   "source": [
    "df_max_importacao_com_rank = df_agrupado_estado_imp.withColumn(\"rank\", dense_rank().over(Window.orderBy(col(\"MAX_IMPORTACAO\").desc())))\n",
    "'''df_max_importacao_com_rank.show()'''"
   ]
  },
  {
   "cell_type": "markdown",
   "metadata": {},
   "source": [
    "### Selecionar os tops 3 produtos "
   ]
  },
  {
   "cell_type": "code",
   "execution_count": 99,
   "metadata": {},
   "outputs": [
    {
     "data": {
      "text/plain": [
       "'df_top_3_imp.show()'"
      ]
     },
     "execution_count": 99,
     "metadata": {},
     "output_type": "execute_result"
    }
   ],
   "source": [
    "# Selecionar registros com ranks específicos\n",
    "ranks_especificos = [1, 4, 8]\n",
    "df_top_3_imp = df_max_importacao_com_rank.filter(col(\"rank\").isin(ranks_especificos))\n",
    "'''df_top_3_imp.show()'''"
   ]
  },
  {
   "cell_type": "code",
   "execution_count": 100,
   "metadata": {},
   "outputs": [
    {
     "data": {
      "text/plain": [
       "'df2_pandas'"
      ]
     },
     "execution_count": 100,
     "metadata": {},
     "output_type": "execute_result"
    }
   ],
   "source": [
    "# Selecionar apenas as colunas desejados do df\n",
    "df_top3_imp = df_top_3_imp.select(\"CO_ANO\", \"SG_UF_NCM\", \"MAX_IMPORTACAO\",\"NO_NCM_ING\")\n",
    "\n",
    "# Convertendo para um dataframe pandas para exibição de gráficos  \n",
    "df2_pandas = df_top3_imp.toPandas()\n",
    "'''df2_pandas'''"
   ]
  },
  {
   "cell_type": "markdown",
   "metadata": {},
   "source": [
    "### Construindo um gráfico sobre \"Os top 3 produtos mais Importados por estado nos anos de 2017, 2018 e 2019\""
   ]
  },
  {
   "cell_type": "code",
   "execution_count": 101,
   "metadata": {},
   "outputs": [
    {
     "data": {
      "text/plain": [
       "'fig2.show()'"
      ]
     },
     "execution_count": 101,
     "metadata": {},
     "output_type": "execute_result"
    }
   ],
   "source": [
    "# Criar o gráfico de barras empilhadas\n",
    "fig2 = go.Figure()\n",
    "\n",
    "# Adicionar barras para cada estado e produto\n",
    "for estado in df2_pandas['SG_UF_NCM'].unique():\n",
    "    df_estado = df2_pandas[df2_pandas['SG_UF_NCM'] == estado]\n",
    "    for ano in df_estado['CO_ANO'].unique():\n",
    "        df_ano = df_estado[df_estado['CO_ANO'] == ano]\n",
    "        fig2.add_trace(go.Bar(\n",
    "            x=df_ano['NO_NCM_ING'],  # Produtos no eixo x\n",
    "            y=df_ano['MAX_IMPORTACAO'],  # Importações máximas no eixo y\n",
    "            name=f'{estado} - {ano} ',  # Nome do estado e ano\n",
    "            hoverinfo='name+y'  # Informações exibidas ao passar o mouse\n",
    "        ))\n",
    "\n",
    "# Personalizar o layout do gráfico\n",
    "fig2.update_layout(\n",
    "    title='Importações Máximas por Produto, Estado e Ano',\n",
    "    xaxis_title='Produto',\n",
    "    yaxis_title='Importação Máxima',\n",
    "    barmode='stack',  # Barras empilhadas\n",
    "    xaxis={'categoryorder': 'total descending'}, # Ordenar os produtos pela soma das importações máximas\n",
    "    yaxis=dict(title='Importação Máxima', zeroline=False),\n",
    "    legend_title='Estado - Ano'  # Título da legenda\n",
    ")\n",
    "\n",
    "# Exibir o gráfico\n",
    "'''fig2.show()'''"
   ]
  },
  {
   "cell_type": "markdown",
   "metadata": {},
   "source": [
    "## 03. Mostre qual os top 3 produtos exportados em cada mês de 2019 por estado;"
   ]
  },
  {
   "cell_type": "code",
   "execution_count": 102,
   "metadata": {},
   "outputs": [
    {
     "data": {
      "text/plain": [
       "'df_ano_exp.show()'"
      ]
     },
     "execution_count": 102,
     "metadata": {},
     "output_type": "execute_result"
    }
   ],
   "source": [
    "# filtrar os ano de 2019\n",
    "df_ano_exp = df_com_produtos.filter(df_com_produtos[\"CO_ANO\"].isin(2019))\n",
    "'''df_ano_exp.show()'''"
   ]
  },
  {
   "cell_type": "markdown",
   "metadata": {},
   "source": [
    "### agrupar por estado"
   ]
  },
  {
   "cell_type": "code",
   "execution_count": 103,
   "metadata": {},
   "outputs": [],
   "source": [
    "\n",
    "df_agrupado_estado_exp19= df_ano_exp.groupBy(\"CO_ANO\", \"CO_NCM\",\"SG_UF_NCM\", \"NO_NCM_ING\").max(\"QT_ESTAT\").withColumnRenamed(\"max(QT_ESTAT)\", \"MAX_EXPORTACAO\")"
   ]
  },
  {
   "cell_type": "markdown",
   "metadata": {},
   "source": [
    "### Ordenando os anos em ordem crescente de acordo com sua exportação"
   ]
  },
  {
   "cell_type": "code",
   "execution_count": 104,
   "metadata": {},
   "outputs": [],
   "source": [
    "\n",
    "df_max_importacao19_com_rank = df_agrupado_estado_exp19.withColumn(\"rank\", dense_rank().over(Window.orderBy(col(\"MAX_EXPORTACAO\").desc())))"
   ]
  },
  {
   "cell_type": "markdown",
   "metadata": {},
   "source": [
    "### Filtrando os 3 maiores valores"
   ]
  },
  {
   "cell_type": "code",
   "execution_count": 105,
   "metadata": {},
   "outputs": [],
   "source": [
    "df3_tres_maiores = df_max_importacao19_com_rank.filter(col(\"rank\") <= 3)"
   ]
  },
  {
   "cell_type": "code",
   "execution_count": 106,
   "metadata": {},
   "outputs": [
    {
     "data": {
      "text/plain": [
       "'df3_pandas'"
      ]
     },
     "execution_count": 106,
     "metadata": {},
     "output_type": "execute_result"
    }
   ],
   "source": [
    "# Selecionar apenas as colunas desejados do dataframe\n",
    "df_top19_exp = df3_tres_maiores.select(\"CO_ANO\", \"CO_NCM\" ,\"SG_UF_NCM\", \"NO_NCM_ING\", \"MAX_EXPORTACAO\")\n",
    "\n",
    "# Convertendo para um dataframe pandas para exibição de gráficos  \n",
    "df3_pandas = df_top19_exp.toPandas()\n",
    "'''df3_pandas'''"
   ]
  },
  {
   "cell_type": "markdown",
   "metadata": {},
   "source": [
    "### Construindo um gráfico sobre \"Os top 3 produtos mais Exportados em cada mês no ano de 2019\""
   ]
  },
  {
   "cell_type": "code",
   "execution_count": 107,
   "metadata": {},
   "outputs": [
    {
     "data": {
      "text/plain": [
       "'fig3.show()'"
      ]
     },
     "execution_count": 107,
     "metadata": {},
     "output_type": "execute_result"
    }
   ],
   "source": [
    "# Criar o gráfico de barras empilhadas\n",
    "fig3 = go.Figure()\n",
    "\n",
    "# Adicionar barras para cada estado e produto\n",
    "for estado in df3_pandas['SG_UF_NCM'].unique():\n",
    "    df_estado = df3_pandas[df3_pandas['SG_UF_NCM'] == estado]\n",
    "    for ano in df_estado['CO_ANO'].unique():\n",
    "        df_ano = df_estado[df_estado['CO_ANO'] == ano]\n",
    "        fig3.add_trace(go.Bar(\n",
    "            x=df_ano['SG_UF_NCM'],  # Produtos no eixo x\n",
    "            y=df_ano['MAX_EXPORTACAO'],  # Importações máximas no eixo y\n",
    "            name=f'{estado} - {ano} - {df_ano[\"NO_NCM_ING\"].iloc[0]}',  # Nome do estado, ano e produto\n",
    "            hoverinfo='name+y'  # Informações exibidas ao passar o mouse\n",
    "        ))\n",
    "\n",
    "# Personalizar o layout do gráfico\n",
    "fig3.update_layout(\n",
    "    title='Exportações Máximas por estado em 2019',\n",
    "    xaxis_title='Estado',\n",
    "    yaxis_title='Exportação Máxima',\n",
    "    barmode='stack',  # Barras empilhadas\n",
    "    xaxis={'categoryorder': 'total descending'}, # Ordenar os produtos pela soma das importações máximas\n",
    "    yaxis=dict(title='Exportação Máxima', zeroline=False),\n",
    "    legend_title='Estado - Ano - Produto'  # Título da legenda\n",
    ")\n",
    "\n",
    "# Exibir o gráfico\n",
    "'''fig3.show()'''"
   ]
  },
  {
   "cell_type": "markdown",
   "metadata": {},
   "source": [
    "## 04. Representatividade em valor de exportação por estado no ano de 2019 em relação ao total exportado pelo país no mesmo ano;"
   ]
  },
  {
   "cell_type": "code",
   "execution_count": 108,
   "metadata": {},
   "outputs": [],
   "source": [
    "# Filtrar os dados apenas para o ano de 2019\n",
    "df4_ano_exp = df_com_produtos.filter(df_com_produtos['CO_ANO'] == 2019)"
   ]
  },
  {
   "cell_type": "markdown",
   "metadata": {},
   "source": [
    "### Agrupar e somar a quantidade exportada por cada estado no ano de 2019"
   ]
  },
  {
   "cell_type": "code",
   "execution_count": 109,
   "metadata": {},
   "outputs": [],
   "source": [
    "total_exportado_por_estado2019 = df4_ano_exp.groupBy(\"CO_ANO\",\"SG_UF_NCM\").sum(\"QT_ESTAT\").withColumnRenamed(\"sum(QT_ESTAT)\", \"MAX_EXPORTACAO_ESTADO\")"
   ]
  },
  {
   "cell_type": "code",
   "execution_count": 110,
   "metadata": {},
   "outputs": [
    {
     "name": "stdout",
     "output_type": "stream",
     "text": [
      "+------+---------+---------------------+\n",
      "|CO_ANO|SG_UF_NCM|MAX_EXPORTACAO_ESTADO|\n",
      "+------+---------+---------------------+\n",
      "|  2019|       RO|            600046018|\n",
      "|  2019|       AL|             36032122|\n",
      "|  2019|       GO|           7336197426|\n",
      "|  2019|       DF|             43000596|\n",
      "|  2019|       PI|            164853846|\n",
      "|  2019|       ES|          27213531364|\n",
      "|  2019|       AM|           1000183885|\n",
      "|  2019|       PR|          10841681756|\n",
      "|  2019|       TO|            546172642|\n",
      "|  2019|       PA|         195801879502|\n",
      "|  2019|       MT|          25647509292|\n",
      "|  2019|       BA|           4418664214|\n",
      "|  2019|       MA|           9368840695|\n",
      "|  2019|       RJ|          21211098313|\n",
      "|  2019|       RN|           1142299073|\n",
      "|  2019|       RR|             84939937|\n",
      "|  2019|       ND|           3212965829|\n",
      "|  2019|       PB|             89366873|\n",
      "|  2019|       AC|             27453591|\n",
      "|  2019|       AP|            500578595|\n",
      "+------+---------+---------------------+\n",
      "only showing top 20 rows\n",
      "\n"
     ]
    }
   ],
   "source": [
    "total_exportado_por_estado2019.show()"
   ]
  },
  {
   "cell_type": "markdown",
   "metadata": {},
   "source": [
    "### Somar a quantidade total exportada pelo país no ano de 2019"
   ]
  },
  {
   "cell_type": "code",
   "execution_count": 111,
   "metadata": {},
   "outputs": [],
   "source": [
    "total_exportado_em_2019 = total_exportado_por_estado2019.groupBy(\"CO_ANO\").sum(\"MAX_EXPORTACAO_ESTADO\").withColumnRenamed(\"sum(MAX_EXPORTACAO_ESTADO)\", \"TOTAL_EXPORTADO_2019\")"
   ]
  },
  {
   "cell_type": "code",
   "execution_count": 112,
   "metadata": {},
   "outputs": [
    {
     "name": "stdout",
     "output_type": "stream",
     "text": [
      "+------+--------------------+\n",
      "|CO_ANO|TOTAL_EXPORTADO_2019|\n",
      "+------+--------------------+\n",
      "|  2019|        526083644677|\n",
      "+------+--------------------+\n",
      "\n"
     ]
    }
   ],
   "source": [
    "total_exportado_em_2019.show()"
   ]
  },
  {
   "cell_type": "markdown",
   "metadata": {},
   "source": [
    "### fazer a conversão dos dois dataframes spark para pandas"
   ]
  },
  {
   "cell_type": "code",
   "execution_count": 113,
   "metadata": {},
   "outputs": [],
   "source": [
    "# Exportações por estado\n",
    "\n",
    "df4_sum_estado_pandas = total_exportado_por_estado2019.toPandas()\n",
    "\n",
    "# Exportações por ano\n",
    "\n",
    "df4_sum_anual_pandas = total_exportado_em_2019.toPandas()"
   ]
  },
  {
   "cell_type": "markdown",
   "metadata": {},
   "source": [
    "### Construindo um gráfico sobre  a \"Representatividade em valor de EXPORTAÇÃO por estado no ano de 2019 em relação ao total exportado pelo país no mesmo ano\""
   ]
  },
  {
   "cell_type": "code",
   "execution_count": 114,
   "metadata": {},
   "outputs": [
    {
     "data": {
      "text/plain": [
       "'fig4.show()'"
      ]
     },
     "execution_count": 114,
     "metadata": {},
     "output_type": "execute_result"
    }
   ],
   "source": [
    "# Extrair os dados das exportações por estado\n",
    "estados = df4_sum_estado_pandas['SG_UF_NCM']\n",
    "exportacoes_por_estado = df4_sum_estado_pandas['MAX_EXPORTACAO_ESTADO']\n",
    "\n",
    "# Extrair a exportação total de 2019\n",
    "exportacao_total_2019 = df4_sum_anual_pandas['TOTAL_EXPORTADO_2019'].iloc[0]\n",
    "\n",
    "# Criar o gráfico de barras\n",
    "fig4 = go.Figure()\n",
    "\n",
    "# Adicionar barras para as exportações por estado\n",
    "fig4.add_trace(go.Bar(\n",
    "    x=estados,\n",
    "    y=exportacoes_por_estado,\n",
    "    name='Exportação por Estado'\n",
    "))\n",
    "\n",
    "# Adicionar uma linha para a exportação total de 2019\n",
    "fig4.add_trace(go.Scatter(\n",
    "    x=estados,\n",
    "    y=[exportacao_total_2019] * len(estados),\n",
    "    mode='lines',\n",
    "    name='Exportação Total de 2019',\n",
    "    line=dict(color='red', dash='dash')\n",
    "))\n",
    "\n",
    "# Personalizar o layout do gráfico\n",
    "fig4.update_layout(\n",
    "    title='Comparação das Exportações por Estado com a Exportação Total de 2019',\n",
    "    xaxis_title='Estado',\n",
    "    yaxis_title='Valor de Exportação',\n",
    "    barmode='group',\n",
    "    showlegend=True\n",
    ")\n",
    "\n",
    "# Exibir o gráfico\n",
    "'''fig4.show()'''"
   ]
  },
  {
   "cell_type": "markdown",
   "metadata": {},
   "source": [
    "## 05. Representatividade em valor de importação por estado no ano de 2019 em relação ao total importado pelo país no mesmo ano."
   ]
  },
  {
   "cell_type": "code",
   "execution_count": 115,
   "metadata": {},
   "outputs": [],
   "source": [
    "# Filtrar os dados apenas para o ano de 2019\n",
    "\n",
    "df5_ano_imp = df_imp_com_produtos.filter(df_imp_com_produtos['CO_ANO'] == 2019)"
   ]
  },
  {
   "cell_type": "markdown",
   "metadata": {},
   "source": [
    "### Agrupar e somar a quantidade importada por cada estado no ano de 2019"
   ]
  },
  {
   "cell_type": "code",
   "execution_count": 116,
   "metadata": {},
   "outputs": [
    {
     "data": {
      "text/plain": [
       "'total_importado_por_estado2019.show()'"
      ]
     },
     "execution_count": 116,
     "metadata": {},
     "output_type": "execute_result"
    }
   ],
   "source": [
    "total_importado_por_estado2019 = df5_ano_imp.groupBy(\"CO_ANO\",\"SG_UF_NCM\").sum(\"QT_ESTAT\").withColumnRenamed(\"sum(QT_ESTAT)\", \"MAX_IMPORTACAO_ESTADO\")\n",
    "'''total_importado_por_estado2019.show()'''"
   ]
  },
  {
   "cell_type": "markdown",
   "metadata": {},
   "source": [
    "### Somar a quantidade total importada pelo país no ano de 2019"
   ]
  },
  {
   "cell_type": "code",
   "execution_count": 117,
   "metadata": {},
   "outputs": [],
   "source": [
    "total_importado_em_2019 = total_importado_por_estado2019.groupBy(\"CO_ANO\").sum(\"MAX_IMPORTACAO_ESTADO\").withColumnRenamed(\"sum(MAX_IMPORTACAO_ESTADO)\", \"TOTAL_IMPORTADO_2019\")"
   ]
  },
  {
   "cell_type": "code",
   "execution_count": 118,
   "metadata": {},
   "outputs": [
    {
     "name": "stdout",
     "output_type": "stream",
     "text": [
      "+------+--------------------+\n",
      "|CO_ANO|TOTAL_IMPORTADO_2019|\n",
      "+------+--------------------+\n",
      "|  2019|        238234076545|\n",
      "+------+--------------------+\n",
      "\n"
     ]
    }
   ],
   "source": [
    "total_importado_em_2019.show()"
   ]
  },
  {
   "cell_type": "markdown",
   "metadata": {},
   "source": [
    "### fazer a conversão dos dois dataframes spark para pandas"
   ]
  },
  {
   "cell_type": "code",
   "execution_count": 119,
   "metadata": {},
   "outputs": [],
   "source": [
    "# Importações por estado\n",
    "\n",
    "df5_sum_estado_pandas = total_importado_por_estado2019.toPandas()\n",
    "\n",
    "# Importações por ano\n",
    "\n",
    "df5_sum_anual_pandas = total_importado_em_2019.toPandas()"
   ]
  },
  {
   "cell_type": "markdown",
   "metadata": {},
   "source": [
    "### Construindo um gráfico sobre a \"Representatividade em valor de IMPORTAÇÃO por estado no ano de 2019 em relação ao total importado pelo país no mesmo ano.\""
   ]
  },
  {
   "cell_type": "code",
   "execution_count": 120,
   "metadata": {},
   "outputs": [
    {
     "data": {
      "text/plain": [
       "'fig5.show()'"
      ]
     },
     "execution_count": 120,
     "metadata": {},
     "output_type": "execute_result"
    }
   ],
   "source": [
    "\n",
    "estados_imp = df5_sum_estado_pandas['SG_UF_NCM']\n",
    "importacoes_por_estado = df5_sum_estado_pandas['MAX_IMPORTACAO_ESTADO']\n",
    "\n",
    "# Extrair a exportação total de 2019\n",
    "importacao_total_2019 = df5_sum_anual_pandas['TOTAL_IMPORTADO_2019'].iloc[0]\n",
    "\n",
    "# Criar o gráfico de barras\n",
    "fig5 = go.Figure()\n",
    "\n",
    "# Adicionar barras para as exportações por estado\n",
    "fig5.add_trace(go.Bar(\n",
    "    x=estados_imp,\n",
    "    y=importacoes_por_estado,\n",
    "    name='Importação por Estado'\n",
    "))\n",
    "\n",
    "# Adicionar uma linha para a exportação total de 2019\n",
    "fig5.add_trace(go.Scatter(\n",
    "    x=estados_imp,\n",
    "    y=[importacao_total_2019] * len(estados_imp),\n",
    "    mode='lines',\n",
    "    name='Importação Total de 2019',\n",
    "    line=dict(color='red', dash='dash')\n",
    "))\n",
    "\n",
    "# Personalizar o layout do gráfico\n",
    "fig5.update_layout(\n",
    "    title='Comparação das Importações por Estado com a Importação Total de 2019',\n",
    "    xaxis_title='Estado',\n",
    "    yaxis_title='Valor de Importação',\n",
    "    barmode='group',\n",
    "    showlegend=True\n",
    ")\n",
    "\n",
    "# Exibir o gráfico\n",
    "'''fig5.show()'''"
   ]
  },
  {
   "cell_type": "markdown",
   "metadata": {},
   "source": [
    "# testes do dashboard\n"
   ]
  },
  {
   "cell_type": "code",
   "execution_count": 121,
   "metadata": {},
   "outputs": [
    {
     "data": {
      "text/html": [
       "\n",
       "        <iframe\n",
       "            width=\"100%\"\n",
       "            height=\"650\"\n",
       "            src=\"http://127.0.0.1:8050/\"\n",
       "            frameborder=\"0\"\n",
       "            allowfullscreen\n",
       "            \n",
       "        ></iframe>\n",
       "        "
      ],
      "text/plain": [
       "<IPython.lib.display.IFrame at 0x1f3b56dcbf0>"
      ]
     },
     "metadata": {},
     "output_type": "display_data"
    }
   ],
   "source": [
    "# Inicialize o aplicativo Dash\n",
    "app = dash.Dash(__name__)\n",
    "\n",
    "# Layout do aplicativo\n",
    "app.layout = html.Div(children=[\n",
    "    html.H1(children='Meu Dashboard'),\n",
    "\n",
    "    html.Div(children='''\n",
    "        Gráfico de Quantidade Exportada por Estado e Ano\n",
    "    '''),\n",
    "\n",
    "    # Adicione o primeiro gráfico como um componente dcc.Graph\n",
    "    dcc.Graph(\n",
    "        id='grafico-1',\n",
    "        figure={\n",
    "            'data': [\n",
    "                go.Pie(\n",
    "                    labels=[f'{estado} - {produto_principal} - {ano}' for ano in df1_pandas['CO_ANO'].unique()],  # Estado, produto e ano\n",
    "                    values=valores_exportacao,  # Quantidades exportadas por ano\n",
    "                    hoverinfo='label+percent+value',  # Informações exibidas ao passar o mouse\n",
    "                    marker=dict(colors=cores),  # Cores das fatias\n",
    "                )\n",
    "            ],\n",
    "            'layout': {\n",
    "                'title': 'Quantidade Exportada por Estado e Ano',  # Título do gráfico\n",
    "                'legend_title': 'Estado - Produto - Ano'  # Título da legenda\n",
    "            }\n",
    "        }\n",
    "    ),\n",
    "\n",
    "    html.Div(children='''\n",
    "        Gráfico de Importações Máximas por Produto, Estado e Ano\n",
    "    '''),\n",
    "\n",
    "    # Adicione o segundo gráfico como um componente dcc.Graph\n",
    "    dcc.Graph(\n",
    "        id='grafico-2',\n",
    "        figure={\n",
    "            'data': [\n",
    "                go.Bar(\n",
    "                    x=df_ano['NO_NCM_ING'],  # Produtos no eixo x\n",
    "                    y=df_ano['MAX_IMPORTACAO'],  # Importações máximas no eixo y\n",
    "                    name=f'{estado} - {ano} ',  # Nome do estado e ano\n",
    "                    hoverinfo='name+y'  # Informações exibidas ao passar o mouse\n",
    "                )\n",
    "                for estado in df2_pandas['SG_UF_NCM'].unique()\n",
    "                for ano in df2_pandas[df2_pandas['SG_UF_NCM'] == estado]['CO_ANO'].unique()\n",
    "                for df_estado in [df2_pandas[df2_pandas['SG_UF_NCM'] == estado]]\n",
    "                for df_ano in [df_estado[df_estado['CO_ANO'] == ano]]\n",
    "            ],\n",
    "            'layout': {\n",
    "                'title': 'Importações Máximas por Produto, Estado e Ano',  # Título do gráfico\n",
    "                'xaxis_title': 'Produto',  # Título do eixo x\n",
    "                'yaxis_title': 'Importação Máxima',  # Título do eixo y\n",
    "                'barmode': 'stack',  # Barras empilhadas\n",
    "                'xaxis': {'categoryorder': 'total descending'},  # Ordenar os produtos pela soma das importações máximas\n",
    "                'yaxis': {'title': 'Importação Máxima', 'zeroline': False},  # Título do eixo y e remoção da linha base\n",
    "                'legend_title': 'Estado - Ano'  # Título da legenda\n",
    "            }\n",
    "        }\n",
    "    ),\n",
    "\n",
    "    html.Div(children='''\n",
    "        Gráfico de Exportações Máximas por Estado em 2019\n",
    "    '''),\n",
    "\n",
    "    # Adicione o terceiro gráfico como um componente dcc.Graph\n",
    "    dcc.Graph(\n",
    "        id='grafico-3',\n",
    "        figure={\n",
    "            'data': [\n",
    "                go.Bar(\n",
    "                    x=df_ano['SG_UF_NCM'],  # Produtos no eixo x\n",
    "                    y=df_ano['MAX_EXPORTACAO'],  # Importações máximas no eixo y\n",
    "                    name=f'{estado} - {ano} - {df_ano[\"NO_NCM_ING\"].iloc[0]}',  # Nome do estado, ano e produto\n",
    "                    hoverinfo='name+y'  # Informações exibidas ao passar o mouse\n",
    "                )\n",
    "                for estado in df3_pandas['SG_UF_NCM'].unique()\n",
    "                for ano in df3_pandas[df3_pandas['SG_UF_NCM'] == estado]['CO_ANO'].unique()\n",
    "                for df_estado in [df3_pandas[df3_pandas['SG_UF_NCM'] == estado]]\n",
    "                for df_ano in [df_estado[df_estado['CO_ANO'] == ano]]\n",
    "            ],\n",
    "            'layout': {\n",
    "                'title': 'Exportações Máximas por Estado em 2019',  # Título do gráfico\n",
    "                'xaxis_title': 'Estado',  # Título do eixo x\n",
    "                'yaxis_title': 'Exportação Máxima',  # Título do eixo y\n",
    "                'barmode': 'stack',  # Barras empilhadas\n",
    "                'xaxis': {'categoryorder': 'total descending'},  # Ordenar os produtos pela soma das exportações máximas\n",
    "                'yaxis': {'title': 'Exportação Máxima', 'zeroline': False},  # Título do eixo y e remoção da linha base\n",
    "                'legend_title': 'Estado - Ano - Produto'  # Título da legenda\n",
    "            }\n",
    "        }\n",
    "    ),\n",
    "\n",
    "    html.Div(children='''\n",
    "        Gráfico de Comparação das Exportações por Estado com a Exportação Total de 2019\n",
    "    '''),\n",
    "\n",
    "    # Adicione o quarto gráfico como um componente dcc.Graph\n",
    "    dcc.Graph(\n",
    "        id='grafico-4',\n",
    "        figure={\n",
    "            'data': [\n",
    "                go.Bar(\n",
    "                    x=estados,\n",
    "                    y=exportacoes_por_estado,\n",
    "                    name='Exportação por Estado'\n",
    "                ),\n",
    "                go.Scatter(\n",
    "                    x=estados,\n",
    "                    y=[exportacao_total_2019] * len(estados),\n",
    "                    mode='lines',\n",
    "                    name='Exportação Total de 2019',\n",
    "                    line=dict(color='red', dash='dash')\n",
    "                )\n",
    "            ],\n",
    "            'layout': {\n",
    "                'title': 'Comparação das Exportações por Estado com a Exportação Total de 2019',  # Título do gráfico\n",
    "                'xaxis_title': 'Estado',  # Título do eixo x\n",
    "                'yaxis_title': 'Valor de Exportação',  # Título do eixo y\n",
    "                'barmode': 'group',  # Agrupamento de barras\n",
    "                'showlegend': True  # Mostrar legenda\n",
    "            }\n",
    "        }\n",
    "    ),\n",
    "\n",
    "    html.Div(children='''\n",
    "        Gráfico de Comparação das Importações por Estado com a Importação Total de 2019\n",
    "    '''),\n",
    "\n",
    "    # Adicione o quinto gráfico como um componente dcc.Graph\n",
    "    dcc.Graph(\n",
    "        id='grafico-5',\n",
    "        figure={\n",
    "            'data': [\n",
    "                go.Bar(\n",
    "                    x=estados_imp,\n",
    "                    y=importacoes_por_estado,\n",
    "                    name='Importação por Estado'\n",
    "                ),\n",
    "                go.Scatter(\n",
    "                    x=estados_imp,\n",
    "                    y=[importacao_total_2019] * len(estados_imp),\n",
    "                    mode='lines',\n",
    "                    name='Importação Total de 2019',\n",
    "                    line=dict(color='red', dash='dash')\n",
    "                )\n",
    "            ],\n",
    "            'layout': {\n",
    "                'title': 'Comparação das Importações por Estado com a Importação Total de 2019',  # Título do gráfico\n",
    "                'xaxis_title': 'Estado',  # Título do eixo x\n",
    "                'yaxis_title': 'Valor de Importação',  # Título do eixo y\n",
    "                'barmode': 'group',  # Agrupamento de barras\n",
    "                'showlegend': True  # Mostrar legenda\n",
    "            }\n",
    "        }\n",
    "    )\n",
    "])\n",
    "\n",
    "if __name__ == '__main__':\n",
    "    app.run_server(debug=True)\n"
   ]
  },
  {
   "cell_type": "markdown",
   "metadata": {},
   "source": [
    "# FIM DO DESAFIO\n"
   ]
  }
 ],
 "metadata": {
  "kernelspec": {
   "display_name": "Python 3",
   "language": "python",
   "name": "python3"
  },
  "language_info": {
   "codemirror_mode": {
    "name": "ipython",
    "version": 3
   },
   "file_extension": ".py",
   "mimetype": "text/x-python",
   "name": "python",
   "nbconvert_exporter": "python",
   "pygments_lexer": "ipython3",
   "version": "3.12.0"
  }
 },
 "nbformat": 4,
 "nbformat_minor": 2
}
